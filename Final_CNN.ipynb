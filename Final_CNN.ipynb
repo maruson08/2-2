{
  "nbformat": 4,
  "nbformat_minor": 0,
  "metadata": {
    "colab": {
      "provenance": [],
      "machine_shape": "hm",
      "gpuType": "T4",
      "include_colab_link": true
    },
    "kernelspec": {
      "name": "python3",
      "display_name": "Python 3"
    },
    "language_info": {
      "name": "python"
    },
    "accelerator": "GPU"
  },
  "cells": [
    {
      "cell_type": "markdown",
      "metadata": {
        "id": "view-in-github",
        "colab_type": "text"
      },
      "source": [
        "<a href=\"https://colab.research.google.com/github/maruson08/2-2/blob/main/Final_CNN.ipynb\" target=\"_parent\"><img src=\"https://colab.research.google.com/assets/colab-badge.svg\" alt=\"Open In Colab\"/></a>"
      ]
    },
    {
      "cell_type": "markdown",
      "source": [
        "#1. 이미지 데이터 이해하기"
      ],
      "metadata": {
        "id": "Ez7egZCi6QmH"
      }
    },
    {
      "cell_type": "code",
      "execution_count": null,
      "metadata": {
        "id": "vX7eW2DbkcSn"
      },
      "outputs": [],
      "source": [
        "import pandas as pd\n",
        "import numpy as np\n",
        "import matplotlib.pyplot as plt\n",
        "import tensorflow as tf\n",
        "from keras.models import Sequential\n",
        "from keras.layers import Dense, MaxPooling2D, AveragePooling2D, Conv2D, Flatten, Dropout, Rescaling"
      ]
    },
    {
      "cell_type": "code",
      "source": [
        "from keras.preprocessing import image\n",
        "img = image.load_img('dog.jpg', target_size=(400,500))"
      ],
      "metadata": {
        "id": "Vc4XkPJQ5pWN"
      },
      "execution_count": null,
      "outputs": []
    },
    {
      "cell_type": "code",
      "source": [
        "plt.imshow(img)"
      ],
      "metadata": {
        "id": "uODEO_gj5zUC"
      },
      "execution_count": null,
      "outputs": []
    },
    {
      "cell_type": "code",
      "source": [
        "img = image.img_to_array(img)\n",
        "img = img.astype('int32')\n",
        "print(img.shape) #img는 몇 차원인가?"
      ],
      "metadata": {
        "id": "AmyVLhwA6E5m"
      },
      "execution_count": null,
      "outputs": []
    },
    {
      "cell_type": "code",
      "source": [
        "print(img)"
      ],
      "metadata": {
        "id": "lgi3BOUK6ONq"
      },
      "execution_count": null,
      "outputs": []
    },
    {
      "cell_type": "markdown",
      "source": [
        "#2. CNN 모델 구현하기"
      ],
      "metadata": {
        "id": "kHCEHuCF6TQ-"
      }
    },
    {
      "cell_type": "code",
      "source": [
        "from keras.datasets import cifar10\n",
        "(X_train,y_train),(X_test,y_test) = cifar10.load_data()"
      ],
      "metadata": {
        "id": "yD7myFA4k8WY"
      },
      "execution_count": null,
      "outputs": []
    },
    {
      "cell_type": "code",
      "source": [
        "X_train.shape, y_train.shape"
      ],
      "metadata": {
        "id": "2TINPWsplNZo"
      },
      "execution_count": null,
      "outputs": []
    },
    {
      "cell_type": "code",
      "source": [
        "plt.imshow(X_train[4], interpolation='bicubic')"
      ],
      "metadata": {
        "id": "wcD6QB43lThB"
      },
      "execution_count": null,
      "outputs": []
    },
    {
      "cell_type": "code",
      "source": [
        "X_train = X_train.astype ('float')/255 #무슨 작업인가?\n",
        "X_test = X_test.astype ('float')/255"
      ],
      "metadata": {
        "id": "Id3ENDCBl0gx"
      },
      "execution_count": null,
      "outputs": []
    },
    {
      "cell_type": "code",
      "source": [
        "from keras.utils import to_categorical\n",
        "y_train = to_categorical(y_train) #무슨 작업인가?\n",
        "y_test = to_categorical(y_test)"
      ],
      "metadata": {
        "id": "5kTq_FBllcyn"
      },
      "execution_count": null,
      "outputs": []
    },
    {
      "cell_type": "code",
      "source": [
        "model=Sequential()\n",
        "model.add(Conv2D(32, (3,3),\n",
        "                 input_shape=(32,32,3),\n",
        "                 activation='relu',\n",
        "                 padding='same',\n",
        "                 strides=(1,1)))\n",
        "model.add(MaxPooling2D(pool_size=(2,2)))\n",
        "model.add(Conv2D(16, (3,3), activation='relu', padding='same'))\n",
        "model.add(Conv2D(128, (3,3)))\n",
        "model.add(AveragePooling2D(pool_size=(2,2)))\n",
        "model.add(Dropout(0.25))\n",
        "model.add(Flatten())\n",
        "\n",
        "model.add(Dense(256, activation='relu'))\n",
        "model.add(Dense(128, activation='relu'))\n",
        "model.add(Dropout(0.25))\n",
        "model.add(Dense(10, activation='softmax'))"
      ],
      "metadata": {
        "id": "yESkTZewy9AG"
      },
      "execution_count": null,
      "outputs": []
    },
    {
      "cell_type": "code",
      "source": [
        "model.compile(loss='categorical_crossentropy', optimizer='adam', metrics=['accuracy'])"
      ],
      "metadata": {
        "id": "w_jMRAtIzjlb"
      },
      "execution_count": null,
      "outputs": []
    },
    {
      "cell_type": "code",
      "source": [
        "model.summary()"
      ],
      "metadata": {
        "id": "pNaezmdxzlJW"
      },
      "execution_count": null,
      "outputs": []
    },
    {
      "cell_type": "code",
      "source": [
        "history=model.fit(X_train, y_train, epochs=30, validation_data=(X_test, y_test))\n",
        "#train_ds에 배치사이즈 나눠 넣어놨기 때문에 여기서 지정 X"
      ],
      "metadata": {
        "id": "UdncCJcmzcIG"
      },
      "execution_count": null,
      "outputs": []
    },
    {
      "cell_type": "code",
      "source": [
        "plt.plot(history.history['loss'])\n",
        "plt.plot(history.history['val_loss'])\n",
        "plt.xlabel('epoch')\n",
        "plt.ylabel('loss')\n",
        "plt.show()"
      ],
      "metadata": {
        "id": "iCfBoBKv9DrH"
      },
      "execution_count": null,
      "outputs": []
    },
    {
      "cell_type": "code",
      "source": [
        "model.evaluate(X_test, y_test)"
      ],
      "metadata": {
        "id": "zaMvMXNk9DrH"
      },
      "execution_count": null,
      "outputs": []
    },
    {
      "cell_type": "markdown",
      "source": [
        "#실습하기"
      ],
      "metadata": {
        "id": "MIb2A4z8XFfQ"
      }
    },
    {
      "cell_type": "code",
      "source": [
        "import zipfile, pathlib, tensorflow as tf\n",
        "\n",
        "with zipfile.ZipFile(\"cats_and_dogs_100.zip\", 'r') as zip_ref: #읽기 모드로 파일 열고 그 파일 객체를 zip_ref라고 함.\n",
        "    zip_ref.extractall(\"data\") #data 이름의 폴더 만들어서 zip 안의 모든 파일을 data 폴더에 저장"
      ],
      "metadata": {
        "id": "aZiXpmd7J8fQ"
      },
      "execution_count": null,
      "outputs": []
    },
    {
      "cell_type": "code",
      "source": [
        "data_dir = pathlib.Path(\"data/PetImages\") #데이터 저장할 폴더 위치를 변수에 넣어 둠.\n",
        "\n",
        "#훈련 데이터셋 나누기\n",
        "train_ds = tf.keras.utils.image_dataset_from_directory( #폴더의 이미지를 한 번에 불러와 일부를 train_ds에 저장\n",
        "    data_dir, #위에서 정한 폴더 위치\n",
        "    labels=\"inferred\", #폴더 이름 보고 자동으로 레이블 붙임\n",
        "    label_mode=\"int\", #레이블을 정수로 표시(알파벳순. cat:0, dog:1)\n",
        "    image_size=(128,128), #모든 이미지 사이즈 지정\n",
        "    batch_size=32, #한 번에 이미지 32장씩 묶어서 가져오기\n",
        "    validation_split=0.2, #전체 데이터의 20%를 검증용으로 사용\n",
        "    subset=\"training\", #훈련 데이터만 가져와라(0.8만큼). 검증 데이터 가져올 땐 \"validation\"\n",
        "    seed=123 #난수 고정값. 훈련/검증 코드에 일치하게 넣어야 함.\n",
        ")\n",
        "\n",
        "#검증 데이터셋 나누기\n",
        "val_ds = #빈칸"
      ],
      "metadata": {
        "id": "UZ1Z5C0kKnAL"
      },
      "execution_count": null,
      "outputs": []
    },
    {
      "cell_type": "code",
      "source": [
        "for images, labels in train_ds.take(1): #첫 번째 배치만 꺼냄\n",
        "    print(\"이미지 텐서 shape:\", images.shape) #몇 차원인가?\n",
        "    print(\"라벨 shape:\", labels.shape) #몇 차원인가?\n",
        "    print(\"라벨 값:\", labels.numpy())\n",
        "\n",
        "    plt.imshow(images[0].numpy().astype(\"uint8\"))\n",
        "    plt.title(f\"Label: {labels[0].numpy()}\")\n",
        "    plt.axis(\"off\")\n",
        "    plt.show()"
      ],
      "metadata": {
        "id": "0hmYIK4eL90_"
      },
      "execution_count": null,
      "outputs": []
    },
    {
      "cell_type": "code",
      "source": [
        "model=Sequential()\n",
        "model.add(Rescaling(1./255, input_shape=(128,128,3)))\n",
        "#아래 구조가 되도록 설계하시오."
      ],
      "metadata": {
        "id": "l5ZKifg9IcgI"
      },
      "execution_count": null,
      "outputs": []
    },
    {
      "cell_type": "markdown",
      "source": [
        "![image.png](data:image/png;base64,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)"
      ],
      "metadata": {
        "id": "a9xJ1O0cHffG"
      }
    },
    {
      "cell_type": "code",
      "source": [
        "#학습 준비"
      ],
      "metadata": {
        "id": "6M7U3PLzLHuG"
      },
      "execution_count": null,
      "outputs": []
    },
    {
      "cell_type": "code",
      "source": [
        "#모델 학습"
      ],
      "metadata": {
        "id": "5WvgCQsUMZJf"
      },
      "execution_count": null,
      "outputs": []
    },
    {
      "cell_type": "code",
      "source": [
        "#에포크별 훈련/검증 손실함수값 시각화"
      ],
      "metadata": {
        "id": "goJpqlTDHo2J"
      },
      "execution_count": null,
      "outputs": []
    },
    {
      "cell_type": "markdown",
      "source": [
        "#예제: MNIST 데이터셋을 분류하는 합성곱 신경망 구현하기"
      ],
      "metadata": {
        "id": "tuObHW-9IgI4"
      }
    },
    {
      "cell_type": "code",
      "source": [
        "#MNIST 데이터셋 가져오는 건 C번 코드에서 다룸."
      ],
      "metadata": {
        "id": "yvecdvWRIkgZ"
      },
      "execution_count": null,
      "outputs": []
    }
  ]
}