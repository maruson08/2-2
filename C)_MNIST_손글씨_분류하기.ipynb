{
  "nbformat": 4,
  "nbformat_minor": 0,
  "metadata": {
    "colab": {
      "provenance": [],
      "include_colab_link": true
    },
    "kernelspec": {
      "name": "python3",
      "display_name": "Python 3"
    },
    "language_info": {
      "name": "python"
    }
  },
  "cells": [
    {
      "cell_type": "markdown",
      "metadata": {
        "id": "view-in-github",
        "colab_type": "text"
      },
      "source": [
        "<a href=\"https://colab.research.google.com/github/maruson08/2-2/blob/main/C)_MNIST_%EC%86%90%EA%B8%80%EC%94%A8_%EB%B6%84%EB%A5%98%ED%95%98%EA%B8%B0.ipynb\" target=\"_parent\"><img src=\"https://colab.research.google.com/assets/colab-badge.svg\" alt=\"Open In Colab\"/></a>"
      ]
    },
    {
      "cell_type": "code",
      "source": [
        "from keras.models import Sequential\n",
        "from keras.layers import Dense\n",
        "from keras.callbacks import ModelCheckpoint, EarlyStopping\n",
        "import numpy as np"
      ],
      "metadata": {
        "id": "rsIvMpHZ6qn6"
      },
      "execution_count": null,
      "outputs": []
    },
    {
      "cell_type": "code",
      "execution_count": null,
      "metadata": {
        "id": "uveuG0Dm4qMU"
      },
      "outputs": [],
      "source": [
        "from keras.datasets import mnist\n",
        "(X_train, y_train), (X_test, y_test) = mnist.load_data()\n",
        "print(X_train.shape)\n",
        "print(y_train.shape)\n",
        "print(X_test.shape)\n",
        "print(y_test.shape)"
      ]
    },
    {
      "cell_type": "code",
      "source": [
        "import matplotlib.pyplot as plt\n",
        "plt.imshow(X_train[0], cmap='gray')\n",
        "plt.show()"
      ],
      "metadata": {
        "id": "wOMKOjjb45wr"
      },
      "execution_count": null,
      "outputs": []
    },
    {
      "cell_type": "code",
      "source": [
        "print(y_train[0])"
      ],
      "metadata": {
        "id": "z7bIWXcq6VqB"
      },
      "execution_count": null,
      "outputs": []
    },
    {
      "cell_type": "code",
      "source": [
        "for x in X_train[0]:\n",
        "  for i in x:\n",
        "    print('%3d'%i, end=' ')\n",
        "  print()"
      ],
      "metadata": {
        "id": "XZWU_qgQ_L4w"
      },
      "execution_count": null,
      "outputs": []
    },
    {
      "cell_type": "code",
      "source": [
        "X_train = X_train.reshape(X_train.shape[0], 784).astype('float32')/#빈칸\n",
        "X_test = #빈칸"
      ],
      "metadata": {
        "id": "rixcURhV5TFU"
      },
      "execution_count": null,
      "outputs": []
    },
    {
      "cell_type": "code",
      "source": [
        "from keras.utils import #빈칸\n",
        "y_train = #빈칸: 원핫인코딩\n",
        "y_test = #빈칸: 원핫인코딩"
      ],
      "metadata": {
        "id": "qOxz2UDh6DhR"
      },
      "execution_count": null,
      "outputs": []
    },
    {
      "cell_type": "code",
      "source": [
        "print(y_train[0])"
      ],
      "metadata": {
        "id": "jORIweVa6a99"
      },
      "execution_count": null,
      "outputs": []
    },
    {
      "cell_type": "code",
      "source": [
        "y_train.shape"
      ],
      "metadata": {
        "id": "_MlfFGLm6RDq"
      },
      "execution_count": null,
      "outputs": []
    },
    {
      "cell_type": "code",
      "source": [
        "model = Sequential()\n",
        "model.add(Dense(256, input_dim=#빈칸, activation='relu'))\n",
        "model.add(Dense(32, activation='relu'))\n",
        "#빈칸: 출력층"
      ],
      "metadata": {
        "id": "GD_6bCzd6RuK"
      },
      "execution_count": null,
      "outputs": []
    },
    {
      "cell_type": "code",
      "source": [
        "model.compile(loss=#빈칸, optimizer='adam', metrics=['accuracy'])"
      ],
      "metadata": {
        "id": "2ss9Wi0N7Af-"
      },
      "execution_count": null,
      "outputs": []
    },
    {
      "cell_type": "code",
      "source": [
        "checkpointer = ModelCheckpoint(filepath='bestMNIST.keras', monitor='val_loss', verbose=1, save_best_only=True)\n",
        "earlystopper = EarlyStopping(monitor='val_loss', patience=10, verbose=1)"
      ],
      "metadata": {
        "id": "Wma8DLx17EZW"
      },
      "execution_count": null,
      "outputs": []
    },
    {
      "cell_type": "code",
      "source": [
        "history = model.fit(X_train, y_train, validation_data=#빈칸, epochs=30, batch_size=128, callbacks=#빈칸)\n",
        "#validation_data: 에포크마다 검증 데이터로 사용할 데이터를 튜플로 전달한다."
      ],
      "metadata": {
        "id": "8ACfSc057TIi"
      },
      "execution_count": null,
      "outputs": []
    },
    {
      "cell_type": "code",
      "source": [
        "model.evaluate(X_test, y_test)"
      ],
      "metadata": {
        "id": "jiAxPazz7ZJ-"
      },
      "execution_count": null,
      "outputs": []
    },
    {
      "cell_type": "code",
      "source": [
        "history.history #퀴즈: 자료형이 무엇인가?"
      ],
      "metadata": {
        "id": "8pflDv2y-BIs"
      },
      "execution_count": null,
      "outputs": []
    },
    {
      "cell_type": "code",
      "source": [
        "x_len = np.arange(len(history.history['loss']))\n",
        "plt.plot(x_len, #빈칸: 검증 데이터 손실함수, marker='.',c='red',label='Testset_loss')\n",
        "plt.plot(x_len, #빈칸: 훈련 데이터 손실함수, marker='.',c='blue', label='Trainset_loss')\n",
        "plt.legend()\n",
        "plt.xlabel('Epochs')\n",
        "plt.ylabel('Loss')\n",
        "plt.show()"
      ],
      "metadata": {
        "id": "_FJDLkph9Q9I"
      },
      "execution_count": null,
      "outputs": []
    },
    {
      "cell_type": "markdown",
      "source": [
        "- 생각할 거리 1: 빨강, 파랑 선의 의미는 각각 무엇인가?\n",
        "- 생각할 거리 2: 몇 에포크부터 과적합이 발생했는가?\n",
        "- 생각할 거리 3: 몇 에포크 정도에서 학습을 중단시키는 것이 좋을까?"
      ],
      "metadata": {
        "id": "1Wpp36FUAKzQ"
      }
    },
    {
      "cell_type": "code",
      "source": [],
      "metadata": {
        "id": "NeGm36SZ939U"
      },
      "execution_count": null,
      "outputs": []
    }
  ]
}