{
  "nbformat": 4,
  "nbformat_minor": 0,
  "metadata": {
    "colab": {
      "provenance": [],
      "include_colab_link": true
    },
    "kernelspec": {
      "name": "python3",
      "display_name": "Python 3"
    },
    "language_info": {
      "name": "python"
    }
  },
  "cells": [
    {
      "cell_type": "markdown",
      "metadata": {
        "id": "view-in-github",
        "colab_type": "text"
      },
      "source": [
        "<a href=\"https://colab.research.google.com/github/maruson08/2-2/blob/main/C)_MNIST_%EC%86%90%EA%B8%80%EC%94%A8_%EB%B6%84%EB%A5%98%ED%95%98%EA%B8%B0.ipynb\" target=\"_parent\"><img src=\"https://colab.research.google.com/assets/colab-badge.svg\" alt=\"Open In Colab\"/></a>"
      ]
    },
    {
      "cell_type": "code",
      "source": [
        "from keras.models import Sequential\n",
        "from keras.layers import Dense\n",
        "from keras.callbacks import ModelCheckpoint, EarlyStopping\n",
        "import numpy as np"
      ],
      "metadata": {
        "id": "rsIvMpHZ6qn6"
      },
      "execution_count": 1,
      "outputs": []
    },
    {
      "cell_type": "code",
      "execution_count": 2,
      "metadata": {
        "id": "uveuG0Dm4qMU",
        "outputId": "e829a9cf-07f3-4322-9737-03136eb00011",
        "colab": {
          "base_uri": "https://localhost:8080/"
        }
      },
      "outputs": [
        {
          "output_type": "stream",
          "name": "stdout",
          "text": [
            "Downloading data from https://storage.googleapis.com/tensorflow/tf-keras-datasets/mnist.npz\n",
            "\u001b[1m11490434/11490434\u001b[0m \u001b[32m━━━━━━━━━━━━━━━━━━━━\u001b[0m\u001b[37m\u001b[0m \u001b[1m0s\u001b[0m 0us/step\n",
            "(60000, 28, 28)\n",
            "(60000,)\n",
            "(10000, 28, 28)\n",
            "(10000,)\n"
          ]
        }
      ],
      "source": [
        "from keras.datasets import mnist\n",
        "(X_train, y_train), (X_test, y_test) = mnist.load_data()\n",
        "print(X_train.shape)\n",
        "print(y_train.shape)\n",
        "print(X_test.shape)\n",
        "print(y_test.shape)"
      ]
    },
    {
      "cell_type": "code",
      "source": [
        "import matplotlib.pyplot as plt\n",
        "plt.imshow(X_train[0], cmap='gray')\n",
        "plt.show()"
      ],
      "metadata": {
        "id": "wOMKOjjb45wr",
        "outputId": "ca9484f0-5d8e-4b30-d250-5a7ec25ef3fc",
        "colab": {
          "base_uri": "https://localhost:8080/",
          "height": 430
        }
      },
      "execution_count": 3,
      "outputs": [
        {
          "output_type": "display_data",
          "data": {
            "text/plain": [
              "<Figure size 640x480 with 1 Axes>"
            ],
            "image/png": "[encoded data removed]"
          },
          "metadata": {}
        }
      ]
    },
    {
      "cell_type": "code",
      "source": [
        "print(y_train[0])"
      ],
      "metadata": {
        "id": "z7bIWXcq6VqB",
        "outputId": "ac640092-6086-464a-cf09-ce8935e5bbb2",
        "colab": {
          "base_uri": "https://localhost:8080/"
        }
      },
      "execution_count": 4,
      "outputs": [
        {
          "output_type": "stream",
          "name": "stdout",
          "text": [
            "5\n"
          ]
        }
      ]
    },
    {
      "cell_type": "code",
      "source": [
        "for x in X_train[0]:\n",
        "  for i in x:\n",
        "    print('%3d'%i, end=' ')\n",
        "  print()"
      ],
      "metadata": {
        "id": "XZWU_qgQ_L4w",
        "outputId": "d0de6ff9-4e3d-418b-dae3-28dfc3a204e4",
        "colab": {
          "base_uri": "https://localhost:8080/"
        }
      },
      "execution_count": 5,
      "outputs": [
        {
          "output_type": "stream",
          "name": "stdout",
          "text": [
            "  0   0   0   0   0   0   0   0   0   0   0   0   0   0   0   0   0   0   0   0   0   0   0   0   0   0   0   0 \n",
            "  0   0   0   0   0   0   0   0   0   0   0   0   0   0   0   0   0   0   0   0   0   0   0   0   0   0   0   0 \n",
            "  0   0   0   0   0   0   0   0   0   0   0   0   0   0   0   0   0   0   0   0   0   0   0   0   0   0   0   0 \n",
            "  0   0   0   0   0   0   0   0   0   0   0   0   0   0   0   0   0   0   0   0   0   0   0   0   0   0   0   0 \n",
            "  0   0   0   0   0   0   0   0   0   0   0   0   0   0   0   0   0   0   0   0   0   0   0   0   0   0   0   0 \n",
            "  0   0   0   0   0   0   0   0   0   0   0   0   3  18  18  18 126 136 175  26 166 255 247 127   0   0   0   0 \n",
            "  0   0   0   0   0   0   0   0  30  36  94 154 170 253 253 253 253 253 225 172 253 242 195  64   0   0   0   0 \n",
            "  0   0   0   0   0   0   0  49 238 253 253 253 253 253 253 253 253 251  93  82  82  56  39   0   0   0   0   0 \n",
            "  0   0   0   0   0   0   0  18 219 253 253 253 253 253 198 182 247 241   0   0   0   0   0   0   0   0   0   0 \n",
            "  0   0   0   0   0   0   0   0  80 156 107 253 253 205  11   0  43 154   0   0   0   0   0   0   0   0   0   0 \n",
            "  0   0   0   0   0   0   0   0   0  14   1 154 253  90   0   0   0   0   0   0   0   0   0   0   0   0   0   0 \n",
            "  0   0   0   0   0   0   0   0   0   0   0 139 253 190   2   0   0   0   0   0   0   0   0   0   0   0   0   0 \n",
            "  0   0   0   0   0   0   0   0   0   0   0  11 190 253  70   0   0   0   0   0   0   0   0   0   0   0   0   0 \n",
            "  0   0   0   0   0   0   0   0   0   0   0   0  35 241 225 160 108   1   0   0   0   0   0   0   0   0   0   0 \n",
            "  0   0   0   0   0   0   0   0   0   0   0   0   0  81 240 253 253 119  25   0   0   0   0   0   0   0   0   0 \n",
            "  0   0   0   0   0   0   0   0   0   0   0   0   0   0  45 186 253 253 150  27   0   0   0   0   0   0   0   0 \n",
            "  0   0   0   0   0   0   0   0   0   0   0   0   0   0   0  16  93 252 253 187   0   0   0   0   0   0   0   0 \n",
            "  0   0   0   0   0   0   0   0   0   0   0   0   0   0   0   0   0 249 253 249  64   0   0   0   0   0   0   0 \n",
            "  0   0   0   0   0   0   0   0   0   0   0   0   0   0  46 130 183 253 253 207   2   0   0   0   0   0   0   0 \n",
            "  0   0   0   0   0   0   0   0   0   0   0   0  39 148 229 253 253 253 250 182   0   0   0   0   0   0   0   0 \n",
            "  0   0   0   0   0   0   0   0   0   0  24 114 221 253 253 253 253 201  78   0   0   0   0   0   0   0   0   0 \n",
            "  0   0   0   0   0   0   0   0  23  66 213 253 253 253 253 198  81   2   0   0   0   0   0   0   0   0   0   0 \n",
            "  0   0   0   0   0   0  18 171 219 253 253 253 253 195  80   9   0   0   0   0   0   0   0   0   0   0   0   0 \n",
            "  0   0   0   0  55 172 226 253 253 253 253 244 133  11   0   0   0   0   0   0   0   0   0   0   0   0   0   0 \n",
            "  0   0   0   0 136 253 253 253 212 135 132  16   0   0   0   0   0   0   0   0   0   0   0   0   0   0   0   0 \n",
            "  0   0   0   0   0   0   0   0   0   0   0   0   0   0   0   0   0   0   0   0   0   0   0   0   0   0   0   0 \n",
            "  0   0   0   0   0   0   0   0   0   0   0   0   0   0   0   0   0   0   0   0   0   0   0   0   0   0   0   0 \n",
            "  0   0   0   0   0   0   0   0   0   0   0   0   0   0   0   0   0   0   0   0   0   0   0   0   0   0   0   0 \n"
          ]
        }
      ]
    },
    {
      "cell_type": "code",
      "source": [
        "X_train = X_train.reshape(X_train.shape[0], 784).astype('float32')/255#빈칸\n",
        "X_test = X_test.reshape(X_test.shape[0], 784).astype('float32')/255#빈칸"
      ],
      "metadata": {
        "id": "rixcURhV5TFU"
      },
      "execution_count": 15,
      "outputs": []
    },
    {
      "cell_type": "code",
      "source": [
        "from keras.utils import to_categorical#빈칸\n",
        "y_train = to_categorical(y_train) #빈칸: 원핫인코딩\n",
        "y_test = to_categorical(y_test)#빈칸: 원핫인코딩"
      ],
      "metadata": {
        "id": "qOxz2UDh6DhR"
      },
      "execution_count": 7,
      "outputs": []
    },
    {
      "cell_type": "code",
      "source": [
        "print(y_train[0])"
      ],
      "metadata": {
        "id": "jORIweVa6a99",
        "outputId": "b2ab52b9-83a6-4e72-e6de-ad94ba8e80a4",
        "colab": {
          "base_uri": "https://localhost:8080/"
        }
      },
      "execution_count": 8,
      "outputs": [
        {
          "output_type": "stream",
          "name": "stdout",
          "text": [
            "[0. 0. 0. 0. 0. 1. 0. 0. 0. 0.]\n"
          ]
        }
      ]
    },
    {
      "cell_type": "code",
      "source": [
        "y_train.shape"
      ],
      "metadata": {
        "id": "_MlfFGLm6RDq",
        "outputId": "595adbd9-89db-460c-e288-f93dc16c16c0",
        "colab": {
          "base_uri": "https://localhost:8080/"
        }
      },
      "execution_count": 9,
      "outputs": [
        {
          "output_type": "execute_result",
          "data": {
            "text/plain": [
              "(60000, 10)"
            ]
          },
          "metadata": {},
          "execution_count": 9
        }
      ]
    },
    {
      "cell_type": "code",
      "source": [
        "model = Sequential()\n",
        "model.add(Dense(256, input_dim=784, activation='relu'))\n",
        "model.add(Dense(32, activation='relu'))\n",
        "model.add(Dense(10,activation='softmax'))\n",
        "#빈칸: 출력층"
      ],
      "metadata": {
        "id": "GD_6bCzd6RuK",
        "outputId": "e71c466d-7456-4243-ece6-2115881f801a",
        "colab": {
          "base_uri": "https://localhost:8080/"
        }
      },
      "execution_count": 20,
      "outputs": [
        {
          "output_type": "stream",
          "name": "stderr",
          "text": [
            "/usr/local/lib/python3.12/dist-packages/keras/src/layers/core/dense.py:93: UserWarning: Do not pass an `input_shape`/`input_dim` argument to a layer. When using Sequential models, prefer using an `Input(shape)` object as the first layer in the model instead.\n",
            "  super().__init__(activity_regularizer=activity_regularizer, **kwargs)\n"
          ]
        }
      ]
    },
    {
      "cell_type": "code",
      "source": [
        "model.compile(loss='categorical_crossentropy', optimizer='adam', metrics=['accuracy'])"
      ],
      "metadata": {
        "id": "2ss9Wi0N7Af-"
      },
      "execution_count": 21,
      "outputs": []
    },
    {
      "cell_type": "code",
      "source": [
        "checkpointer = ModelCheckpoint(filepath='bestMNIST.keras', monitor='val_loss', verbose=1, save_best_only=True)\n",
        "earlystopper = EarlyStopping(monitor='val_loss', patience=10, verbose=1)"
      ],
      "metadata": {
        "id": "Wma8DLx17EZW"
      },
      "execution_count": 22,
      "outputs": []
    },
    {
      "cell_type": "code",
      "source": [
        "history = model.fit(X_train, y_train, validation_data=(X_test, y_test), epochs=30, batch_size=128, callbacks=[checkpointer, earlystopper])\n",
        "#validation_data: 에포크마다 검증 데이터로 사용할 데이터를 튜플로 전달한다."
      ],
      "metadata": {
        "id": "8ACfSc057TIi",
        "outputId": "6b2912df-fef7-4fd7-a6f3-a288680b38a9",
        "colab": {
          "base_uri": "https://localhost:8080/"
        }
      },
      "execution_count": 23,
      "outputs": [
        {
          "output_type": "stream",
          "name": "stdout",
          "text": [
            "Epoch 1/30\n",
            "\u001b[1m467/469\u001b[0m \u001b[32m━━━━━━━━━━━━━━━━━━━\u001b[0m\u001b[37m━\u001b[0m \u001b[1m0s\u001b[0m 7ms/step - accuracy: 0.4352 - loss: 1.8479\n",
            "Epoch 1: val_loss improved from inf to 58.44809, saving model to bestMNIST.keras\n",
            "\u001b[1m469/469\u001b[0m \u001b[32m━━━━━━━━━━━━━━━━━━━━\u001b[0m\u001b[37m\u001b[0m \u001b[1m5s\u001b[0m 8ms/step - accuracy: 0.4363 - loss: 1.8448 - val_accuracy: 0.6627 - val_loss: 58.4481\n",
            "Epoch 2/30\n",
            "\u001b[1m467/469\u001b[0m \u001b[32m━━━━━━━━━━━━━━━━━━━\u001b[0m\u001b[37m━\u001b[0m \u001b[1m0s\u001b[0m 6ms/step - accuracy: 0.8154 - loss: 0.6333\n",
            "Epoch 2: val_loss did not improve from 58.44809\n",
            "\u001b[1m469/469\u001b[0m \u001b[32m━━━━━━━━━━━━━━━━━━━━\u001b[0m\u001b[37m\u001b[0m \u001b[1m3s\u001b[0m 6ms/step - accuracy: 0.8155 - loss: 0.6329 - val_accuracy: 0.7109 - val_loss: 69.4260\n",
            "Epoch 3/30\n",
            "\u001b[1m463/469\u001b[0m \u001b[32m━━━━━━━━━━━━━━━━━━━\u001b[0m\u001b[37m━\u001b[0m \u001b[1m0s\u001b[0m 6ms/step - accuracy: 0.8688 - loss: 0.4532\n",
            "Epoch 3: val_loss improved from 58.44809 to 56.46781, saving model to bestMNIST.keras\n",
            "\u001b[1m469/469\u001b[0m \u001b[32m━━━━━━━━━━━━━━━━━━━━\u001b[0m\u001b[37m\u001b[0m \u001b[1m3s\u001b[0m 6ms/step - accuracy: 0.8689 - loss: 0.4529 - val_accuracy: 0.7755 - val_loss: 56.4678\n",
            "Epoch 4/30\n",
            "\u001b[1m468/469\u001b[0m \u001b[32m━━━━━━━━━━━━━━━━━━━\u001b[0m\u001b[37m━\u001b[0m \u001b[1m0s\u001b[0m 8ms/step - accuracy: 0.8892 - loss: 0.3802\n",
            "Epoch 4: val_loss improved from 56.46781 to 52.99781, saving model to bestMNIST.keras\n",
            "\u001b[1m469/469\u001b[0m \u001b[32m━━━━━━━━━━━━━━━━━━━━\u001b[0m\u001b[37m\u001b[0m \u001b[1m4s\u001b[0m 9ms/step - accuracy: 0.8892 - loss: 0.3801 - val_accuracy: 0.8009 - val_loss: 52.9978\n",
            "Epoch 5/30\n",
            "\u001b[1m467/469\u001b[0m \u001b[32m━━━━━━━━━━━━━━━━━━━\u001b[0m\u001b[37m━\u001b[0m \u001b[1m0s\u001b[0m 6ms/step - accuracy: 0.9004 - loss: 0.3427\n",
            "Epoch 5: val_loss improved from 52.99781 to 48.05858, saving model to bestMNIST.keras\n",
            "\u001b[1m469/469\u001b[0m \u001b[32m━━━━━━━━━━━━━━━━━━━━\u001b[0m\u001b[37m\u001b[0m \u001b[1m3s\u001b[0m 6ms/step - accuracy: 0.9004 - loss: 0.3427 - val_accuracy: 0.8199 - val_loss: 48.0586\n",
            "Epoch 6/30\n",
            "\u001b[1m465/469\u001b[0m \u001b[32m━━━━━━━━━━━━━━━━━━━\u001b[0m\u001b[37m━\u001b[0m \u001b[1m0s\u001b[0m 6ms/step - accuracy: 0.9086 - loss: 0.3182\n",
            "Epoch 6: val_loss improved from 48.05858 to 44.35756, saving model to bestMNIST.keras\n",
            "\u001b[1m469/469\u001b[0m \u001b[32m━━━━━━━━━━━━━━━━━━━━\u001b[0m\u001b[37m\u001b[0m \u001b[1m3s\u001b[0m 6ms/step - accuracy: 0.9086 - loss: 0.3182 - val_accuracy: 0.8362 - val_loss: 44.3576\n",
            "Epoch 7/30\n",
            "\u001b[1m466/469\u001b[0m \u001b[32m━━━━━━━━━━━━━━━━━━━\u001b[0m\u001b[37m━\u001b[0m \u001b[1m0s\u001b[0m 6ms/step - accuracy: 0.9143 - loss: 0.2995\n",
            "Epoch 7: val_loss did not improve from 44.35756\n",
            "\u001b[1m469/469\u001b[0m \u001b[32m━━━━━━━━━━━━━━━━━━━━\u001b[0m\u001b[37m\u001b[0m \u001b[1m3s\u001b[0m 6ms/step - accuracy: 0.9142 - loss: 0.2995 - val_accuracy: 0.8357 - val_loss: 44.5521\n",
            "Epoch 8/30\n",
            "\u001b[1m465/469\u001b[0m \u001b[32m━━━━━━━━━━━━━━━━━━━\u001b[0m\u001b[37m━\u001b[0m \u001b[1m0s\u001b[0m 8ms/step - accuracy: 0.9169 - loss: 0.2950\n",
            "Epoch 8: val_loss improved from 44.35756 to 42.72062, saving model to bestMNIST.keras\n",
            "\u001b[1m469/469\u001b[0m \u001b[32m━━━━━━━━━━━━━━━━━━━━\u001b[0m\u001b[37m\u001b[0m \u001b[1m4s\u001b[0m 9ms/step - accuracy: 0.9170 - loss: 0.2949 - val_accuracy: 0.8442 - val_loss: 42.7206\n",
            "Epoch 9/30\n",
            "\u001b[1m462/469\u001b[0m \u001b[32m━━━━━━━━━━━━━━━━━━━\u001b[0m\u001b[37m━\u001b[0m \u001b[1m0s\u001b[0m 6ms/step - accuracy: 0.9230 - loss: 0.2754\n",
            "Epoch 9: val_loss improved from 42.72062 to 40.55228, saving model to bestMNIST.keras\n",
            "\u001b[1m469/469\u001b[0m \u001b[32m━━━━━━━━━━━━━━━━━━━━\u001b[0m\u001b[37m\u001b[0m \u001b[1m4s\u001b[0m 6ms/step - accuracy: 0.9230 - loss: 0.2753 - val_accuracy: 0.8510 - val_loss: 40.5523\n",
            "Epoch 10/30\n",
            "\u001b[1m467/469\u001b[0m \u001b[32m━━━━━━━━━━━━━━━━━━━\u001b[0m\u001b[37m━\u001b[0m \u001b[1m0s\u001b[0m 7ms/step - accuracy: 0.9270 - loss: 0.2577\n",
            "Epoch 10: val_loss improved from 40.55228 to 39.14954, saving model to bestMNIST.keras\n",
            "\u001b[1m469/469\u001b[0m \u001b[32m━━━━━━━━━━━━━━━━━━━━\u001b[0m\u001b[37m\u001b[0m \u001b[1m3s\u001b[0m 7ms/step - accuracy: 0.9270 - loss: 0.2577 - val_accuracy: 0.8590 - val_loss: 39.1495\n",
            "Epoch 11/30\n",
            "\u001b[1m463/469\u001b[0m \u001b[32m━━━━━━━━━━━━━━━━━━━\u001b[0m\u001b[37m━\u001b[0m \u001b[1m0s\u001b[0m 10ms/step - accuracy: 0.9297 - loss: 0.2482\n",
            "Epoch 11: val_loss improved from 39.14954 to 36.36725, saving model to bestMNIST.keras\n",
            "\u001b[1m469/469\u001b[0m \u001b[32m━━━━━━━━━━━━━━━━━━━━\u001b[0m\u001b[37m\u001b[0m \u001b[1m5s\u001b[0m 11ms/step - accuracy: 0.9297 - loss: 0.2481 - val_accuracy: 0.8679 - val_loss: 36.3672\n",
            "Epoch 12/30\n",
            "\u001b[1m469/469\u001b[0m \u001b[32m━━━━━━━━━━━━━━━━━━━━\u001b[0m\u001b[37m\u001b[0m \u001b[1m0s\u001b[0m 6ms/step - accuracy: 0.9353 - loss: 0.2253\n",
            "Epoch 12: val_loss improved from 36.36725 to 34.49021, saving model to bestMNIST.keras\n",
            "\u001b[1m469/469\u001b[0m \u001b[32m━━━━━━━━━━━━━━━━━━━━\u001b[0m\u001b[37m\u001b[0m \u001b[1m3s\u001b[0m 7ms/step - accuracy: 0.9353 - loss: 0.2253 - val_accuracy: 0.8704 - val_loss: 34.4902\n",
            "Epoch 13/30\n",
            "\u001b[1m461/469\u001b[0m \u001b[32m━━━━━━━━━━━━━━━━━━━\u001b[0m\u001b[37m━\u001b[0m \u001b[1m0s\u001b[0m 6ms/step - accuracy: 0.9358 - loss: 0.2218\n",
            "Epoch 13: val_loss improved from 34.49021 to 32.35676, saving model to bestMNIST.keras\n",
            "\u001b[1m469/469\u001b[0m \u001b[32m━━━━━━━━━━━━━━━━━━━━\u001b[0m\u001b[37m\u001b[0m \u001b[1m3s\u001b[0m 6ms/step - accuracy: 0.9359 - loss: 0.2216 - val_accuracy: 0.8799 - val_loss: 32.3568\n",
            "Epoch 14/30\n",
            "\u001b[1m463/469\u001b[0m \u001b[32m━━━━━━━━━━━━━━━━━━━\u001b[0m\u001b[37m━\u001b[0m \u001b[1m0s\u001b[0m 6ms/step - accuracy: 0.9431 - loss: 0.2046\n",
            "Epoch 14: val_loss improved from 32.35676 to 31.38263, saving model to bestMNIST.keras\n",
            "\u001b[1m469/469\u001b[0m \u001b[32m━━━━━━━━━━━━━━━━━━━━\u001b[0m\u001b[37m\u001b[0m \u001b[1m3s\u001b[0m 7ms/step - accuracy: 0.9431 - loss: 0.2045 - val_accuracy: 0.8843 - val_loss: 31.3826\n",
            "Epoch 15/30\n",
            "\u001b[1m469/469\u001b[0m \u001b[32m━━━━━━━━━━━━━━━━━━━━\u001b[0m\u001b[37m\u001b[0m \u001b[1m0s\u001b[0m 10ms/step - accuracy: 0.9437 - loss: 0.1952\n",
            "Epoch 15: val_loss improved from 31.38263 to 29.68385, saving model to bestMNIST.keras\n",
            "\u001b[1m469/469\u001b[0m \u001b[32m━━━━━━━━━━━━━━━━━━━━\u001b[0m\u001b[37m\u001b[0m \u001b[1m5s\u001b[0m 11ms/step - accuracy: 0.9437 - loss: 0.1952 - val_accuracy: 0.8920 - val_loss: 29.6838\n",
            "Epoch 16/30\n",
            "\u001b[1m461/469\u001b[0m \u001b[32m━━━━━━━━━━━━━━━━━━━\u001b[0m\u001b[37m━\u001b[0m \u001b[1m0s\u001b[0m 6ms/step - accuracy: 0.9476 - loss: 0.1839\n",
            "Epoch 16: val_loss improved from 29.68385 to 27.13126, saving model to bestMNIST.keras\n",
            "\u001b[1m469/469\u001b[0m \u001b[32m━━━━━━━━━━━━━━━━━━━━\u001b[0m\u001b[37m\u001b[0m \u001b[1m3s\u001b[0m 7ms/step - accuracy: 0.9476 - loss: 0.1838 - val_accuracy: 0.8995 - val_loss: 27.1313\n",
            "Epoch 17/30\n",
            "\u001b[1m463/469\u001b[0m \u001b[32m━━━━━━━━━━━━━━━━━━━\u001b[0m\u001b[37m━\u001b[0m \u001b[1m0s\u001b[0m 6ms/step - accuracy: 0.9504 - loss: 0.1738\n",
            "Epoch 17: val_loss did not improve from 27.13126\n",
            "\u001b[1m469/469\u001b[0m \u001b[32m━━━━━━━━━━━━━━━━━━━━\u001b[0m\u001b[37m\u001b[0m \u001b[1m3s\u001b[0m 7ms/step - accuracy: 0.9504 - loss: 0.1738 - val_accuracy: 0.8952 - val_loss: 28.0028\n",
            "Epoch 18/30\n",
            "\u001b[1m466/469\u001b[0m \u001b[32m━━━━━━━━━━━━━━━━━━━\u001b[0m\u001b[37m━\u001b[0m \u001b[1m0s\u001b[0m 8ms/step - accuracy: 0.9518 - loss: 0.1639\n",
            "Epoch 18: val_loss did not improve from 27.13126\n",
            "\u001b[1m469/469\u001b[0m \u001b[32m━━━━━━━━━━━━━━━━━━━━\u001b[0m\u001b[37m\u001b[0m \u001b[1m4s\u001b[0m 9ms/step - accuracy: 0.9518 - loss: 0.1639 - val_accuracy: 0.8958 - val_loss: 27.5198\n",
            "Epoch 19/30\n",
            "\u001b[1m466/469\u001b[0m \u001b[32m━━━━━━━━━━━━━━━━━━━\u001b[0m\u001b[37m━\u001b[0m \u001b[1m0s\u001b[0m 6ms/step - accuracy: 0.9545 - loss: 0.1584\n",
            "Epoch 19: val_loss improved from 27.13126 to 26.89142, saving model to bestMNIST.keras\n",
            "\u001b[1m469/469\u001b[0m \u001b[32m━━━━━━━━━━━━━━━━━━━━\u001b[0m\u001b[37m\u001b[0m \u001b[1m4s\u001b[0m 7ms/step - accuracy: 0.9546 - loss: 0.1584 - val_accuracy: 0.8995 - val_loss: 26.8914\n",
            "Epoch 20/30\n",
            "\u001b[1m463/469\u001b[0m \u001b[32m━━━━━━━━━━━━━━━━━━━\u001b[0m\u001b[37m━\u001b[0m \u001b[1m0s\u001b[0m 6ms/step - accuracy: 0.9570 - loss: 0.1485\n",
            "Epoch 20: val_loss improved from 26.89142 to 25.91041, saving model to bestMNIST.keras\n",
            "\u001b[1m469/469\u001b[0m \u001b[32m━━━━━━━━━━━━━━━━━━━━\u001b[0m\u001b[37m\u001b[0m \u001b[1m3s\u001b[0m 7ms/step - accuracy: 0.9570 - loss: 0.1485 - val_accuracy: 0.9037 - val_loss: 25.9104\n",
            "Epoch 21/30\n",
            "\u001b[1m465/469\u001b[0m \u001b[32m━━━━━━━━━━━━━━━━━━━\u001b[0m\u001b[37m━\u001b[0m \u001b[1m0s\u001b[0m 6ms/step - accuracy: 0.9609 - loss: 0.1397\n",
            "Epoch 21: val_loss improved from 25.91041 to 25.79423, saving model to bestMNIST.keras\n",
            "\u001b[1m469/469\u001b[0m \u001b[32m━━━━━━━━━━━━━━━━━━━━\u001b[0m\u001b[37m\u001b[0m \u001b[1m4s\u001b[0m 8ms/step - accuracy: 0.9609 - loss: 0.1397 - val_accuracy: 0.9068 - val_loss: 25.7942\n",
            "Epoch 22/30\n",
            "\u001b[1m463/469\u001b[0m \u001b[32m━━━━━━━━━━━━━━━━━━━\u001b[0m\u001b[37m━\u001b[0m \u001b[1m0s\u001b[0m 7ms/step - accuracy: 0.9621 - loss: 0.1306\n",
            "Epoch 22: val_loss did not improve from 25.79423\n",
            "\u001b[1m469/469\u001b[0m \u001b[32m━━━━━━━━━━━━━━━━━━━━\u001b[0m\u001b[37m\u001b[0m \u001b[1m4s\u001b[0m 8ms/step - accuracy: 0.9621 - loss: 0.1306 - val_accuracy: 0.9030 - val_loss: 26.1728\n",
            "Epoch 23/30\n",
            "\u001b[1m463/469\u001b[0m \u001b[32m━━━━━━━━━━━━━━━━━━━\u001b[0m\u001b[37m━\u001b[0m \u001b[1m0s\u001b[0m 6ms/step - accuracy: 0.9643 - loss: 0.1255\n",
            "Epoch 23: val_loss improved from 25.79423 to 25.25707, saving model to bestMNIST.keras\n",
            "\u001b[1m469/469\u001b[0m \u001b[32m━━━━━━━━━━━━━━━━━━━━\u001b[0m\u001b[37m\u001b[0m \u001b[1m3s\u001b[0m 7ms/step - accuracy: 0.9643 - loss: 0.1255 - val_accuracy: 0.9088 - val_loss: 25.2571\n",
            "Epoch 24/30\n",
            "\u001b[1m469/469\u001b[0m \u001b[32m━━━━━━━━━━━━━━━━━━━━\u001b[0m\u001b[37m\u001b[0m \u001b[1m0s\u001b[0m 6ms/step - accuracy: 0.9658 - loss: 0.1173\n",
            "Epoch 24: val_loss did not improve from 25.25707\n",
            "\u001b[1m469/469\u001b[0m \u001b[32m━━━━━━━━━━━━━━━━━━━━\u001b[0m\u001b[37m\u001b[0m \u001b[1m6s\u001b[0m 7ms/step - accuracy: 0.9658 - loss: 0.1173 - val_accuracy: 0.9084 - val_loss: 25.6969\n",
            "Epoch 25/30\n",
            "\u001b[1m464/469\u001b[0m \u001b[32m━━━━━━━━━━━━━━━━━━━\u001b[0m\u001b[37m━\u001b[0m \u001b[1m0s\u001b[0m 8ms/step - accuracy: 0.9680 - loss: 0.1103\n",
            "Epoch 25: val_loss did not improve from 25.25707\n",
            "\u001b[1m469/469\u001b[0m \u001b[32m━━━━━━━━━━━━━━━━━━━━\u001b[0m\u001b[37m\u001b[0m \u001b[1m4s\u001b[0m 8ms/step - accuracy: 0.9679 - loss: 0.1104 - val_accuracy: 0.8964 - val_loss: 29.1690\n",
            "Epoch 26/30\n",
            "\u001b[1m461/469\u001b[0m \u001b[32m━━━━━━━━━━━━━━━━━━━\u001b[0m\u001b[37m━\u001b[0m \u001b[1m0s\u001b[0m 6ms/step - accuracy: 0.9673 - loss: 0.1114\n",
            "Epoch 26: val_loss did not improve from 25.25707\n",
            "\u001b[1m469/469\u001b[0m \u001b[32m━━━━━━━━━━━━━━━━━━━━\u001b[0m\u001b[37m\u001b[0m \u001b[1m3s\u001b[0m 6ms/step - accuracy: 0.9673 - loss: 0.1114 - val_accuracy: 0.8965 - val_loss: 29.5272\n",
            "Epoch 27/30\n",
            "\u001b[1m462/469\u001b[0m \u001b[32m━━━━━━━━━━━━━━━━━━━\u001b[0m\u001b[37m━\u001b[0m \u001b[1m0s\u001b[0m 6ms/step - accuracy: 0.9695 - loss: 0.1057\n",
            "Epoch 27: val_loss did not improve from 25.25707\n",
            "\u001b[1m469/469\u001b[0m \u001b[32m━━━━━━━━━━━━━━━━━━━━\u001b[0m\u001b[37m\u001b[0m \u001b[1m3s\u001b[0m 6ms/step - accuracy: 0.9695 - loss: 0.1057 - val_accuracy: 0.8997 - val_loss: 28.8384\n",
            "Epoch 28/30\n",
            "\u001b[1m468/469\u001b[0m \u001b[32m━━━━━━━━━━━━━━━━━━━\u001b[0m\u001b[37m━\u001b[0m \u001b[1m0s\u001b[0m 8ms/step - accuracy: 0.9711 - loss: 0.0995\n",
            "Epoch 28: val_loss did not improve from 25.25707\n",
            "\u001b[1m469/469\u001b[0m \u001b[32m━━━━━━━━━━━━━━━━━━━━\u001b[0m\u001b[37m\u001b[0m \u001b[1m4s\u001b[0m 9ms/step - accuracy: 0.9711 - loss: 0.0995 - val_accuracy: 0.9121 - val_loss: 25.9749\n",
            "Epoch 29/30\n",
            "\u001b[1m465/469\u001b[0m \u001b[32m━━━━━━━━━━━━━━━━━━━\u001b[0m\u001b[37m━\u001b[0m \u001b[1m0s\u001b[0m 6ms/step - accuracy: 0.9715 - loss: 0.0984\n",
            "Epoch 29: val_loss did not improve from 25.25707\n",
            "\u001b[1m469/469\u001b[0m \u001b[32m━━━━━━━━━━━━━━━━━━━━\u001b[0m\u001b[37m\u001b[0m \u001b[1m3s\u001b[0m 7ms/step - accuracy: 0.9715 - loss: 0.0983 - val_accuracy: 0.9005 - val_loss: 29.7081\n",
            "Epoch 30/30\n",
            "\u001b[1m463/469\u001b[0m \u001b[32m━━━━━━━━━━━━━━━━━━━\u001b[0m\u001b[37m━\u001b[0m \u001b[1m0s\u001b[0m 6ms/step - accuracy: 0.9728 - loss: 0.0923\n",
            "Epoch 30: val_loss did not improve from 25.25707\n",
            "\u001b[1m469/469\u001b[0m \u001b[32m━━━━━━━━━━━━━━━━━━━━\u001b[0m\u001b[37m\u001b[0m \u001b[1m3s\u001b[0m 6ms/step - accuracy: 0.9728 - loss: 0.0923 - val_accuracy: 0.9077 - val_loss: 28.0559\n"
          ]
        }
      ]
    },
    {
      "cell_type": "code",
      "source": [
        "model.evaluate(X_test, y_test)"
      ],
      "metadata": {
        "id": "jiAxPazz7ZJ-",
        "outputId": "e0abfe47-7cd1-46fd-dc04-05643e003e5d",
        "colab": {
          "base_uri": "https://localhost:8080/"
        }
      },
      "execution_count": 24,
      "outputs": [
        {
          "output_type": "stream",
          "name": "stdout",
          "text": [
            "\u001b[1m313/313\u001b[0m \u001b[32m━━━━━━━━━━━━━━━━━━━━\u001b[0m\u001b[37m\u001b[0m \u001b[1m1s\u001b[0m 4ms/step - accuracy: 0.8961 - loss: 31.5327\n"
          ]
        },
        {
          "output_type": "execute_result",
          "data": {
            "text/plain": [
              "[28.0559024810791, 0.9077000021934509]"
            ]
          },
          "metadata": {},
          "execution_count": 24
        }
      ]
    },
    {
      "cell_type": "code",
      "source": [
        "history.history #퀴즈: 자료형이 무엇인가?"
      ],
      "metadata": {
        "id": "8pflDv2y-BIs",
        "outputId": "35d3a7a1-045b-44b5-9f95-1b8267f2a2a5",
        "colab": {
          "base_uri": "https://localhost:8080/"
        }
      },
      "execution_count": 25,
      "outputs": [
        {
          "output_type": "execute_result",
          "data": {
            "text/plain": [
              "{'accuracy': [0.5945333242416382,\n",
              "  0.8320333361625671,\n",
              "  0.8756833076477051,\n",
              "  0.8921499848365784,\n",
              "  0.901449978351593,\n",
              "  0.9083666801452637,\n",
              "  0.9130833148956299,\n",
              "  0.9180499911308289,\n",
              "  0.924049973487854,\n",
              "  0.9281666874885559,\n",
              "  0.9311500191688538,\n",
              "  0.9347666501998901,\n",
              "  0.9386333227157593,\n",
              "  0.942466676235199,\n",
              "  0.9451666474342346,\n",
              "  0.9483166933059692,\n",
              "  0.951116681098938,\n",
              "  0.9532166719436646,\n",
              "  0.9555833339691162,\n",
              "  0.9574999809265137,\n",
              "  0.9603333473205566,\n",
              "  0.9618666768074036,\n",
              "  0.9636499881744385,\n",
              "  0.9645166397094727,\n",
              "  0.9666500091552734,\n",
              "  0.9682833552360535,\n",
              "  0.9688833355903625,\n",
              "  0.9701666831970215,\n",
              "  0.9720166921615601,\n",
              "  0.9730333089828491],\n",
              " 'loss': [1.3592685461044312,\n",
              "  0.5752996802330017,\n",
              "  0.43152937293052673,\n",
              "  0.37160757184028625,\n",
              "  0.340325266122818,\n",
              "  0.31926995515823364,\n",
              "  0.30126631259918213,\n",
              "  0.2852453887462616,\n",
              "  0.26924633979797363,\n",
              "  0.2545916438102722,\n",
              "  0.23984494805335999,\n",
              "  0.22718359529972076,\n",
              "  0.21449919044971466,\n",
              "  0.20170308649539948,\n",
              "  0.19084948301315308,\n",
              "  0.18087983131408691,\n",
              "  0.17128194868564606,\n",
              "  0.1620587259531021,\n",
              "  0.15438611805438995,\n",
              "  0.1460222452878952,\n",
              "  0.1384672075510025,\n",
              "  0.13214759528636932,\n",
              "  0.12566500902175903,\n",
              "  0.1202935129404068,\n",
              "  0.11487134546041489,\n",
              "  0.10999923944473267,\n",
              "  0.10571490973234177,\n",
              "  0.10098069906234741,\n",
              "  0.09650658816099167,\n",
              "  0.09247308224439621],\n",
              " 'val_accuracy': [0.6626999974250793,\n",
              "  0.7109000086784363,\n",
              "  0.7754999995231628,\n",
              "  0.8008999824523926,\n",
              "  0.8198999762535095,\n",
              "  0.8361999988555908,\n",
              "  0.8356999754905701,\n",
              "  0.8442000150680542,\n",
              "  0.8510000109672546,\n",
              "  0.859000027179718,\n",
              "  0.867900013923645,\n",
              "  0.8704000115394592,\n",
              "  0.8798999786376953,\n",
              "  0.8842999935150146,\n",
              "  0.8920000195503235,\n",
              "  0.8995000123977661,\n",
              "  0.8952000141143799,\n",
              "  0.895799994468689,\n",
              "  0.8995000123977661,\n",
              "  0.9036999940872192,\n",
              "  0.9067999720573425,\n",
              "  0.902999997138977,\n",
              "  0.9088000059127808,\n",
              "  0.9083999991416931,\n",
              "  0.896399974822998,\n",
              "  0.8964999914169312,\n",
              "  0.8996999859809875,\n",
              "  0.9121000170707703,\n",
              "  0.9004999995231628,\n",
              "  0.9077000021934509],\n",
              " 'val_loss': [58.44808578491211,\n",
              "  69.42601776123047,\n",
              "  56.46780776977539,\n",
              "  52.997806549072266,\n",
              "  48.0585823059082,\n",
              "  44.35755920410156,\n",
              "  44.55209732055664,\n",
              "  42.720619201660156,\n",
              "  40.552276611328125,\n",
              "  39.1495361328125,\n",
              "  36.36724853515625,\n",
              "  34.490211486816406,\n",
              "  32.35675811767578,\n",
              "  31.382627487182617,\n",
              "  29.683849334716797,\n",
              "  27.131261825561523,\n",
              "  28.00282859802246,\n",
              "  27.519840240478516,\n",
              "  26.89142417907715,\n",
              "  25.910411834716797,\n",
              "  25.794227600097656,\n",
              "  26.172780990600586,\n",
              "  25.2570743560791,\n",
              "  25.69687843322754,\n",
              "  29.16899299621582,\n",
              "  29.527236938476562,\n",
              "  28.838424682617188,\n",
              "  25.97488021850586,\n",
              "  29.70808219909668,\n",
              "  28.055892944335938]}"
            ]
          },
          "metadata": {},
          "execution_count": 25
        }
      ]
    },
    {
      "cell_type": "code",
      "source": [
        "x_len = np.arange(len(history.history['loss']))\n",
        "plt.plot(x_len, history.history['val_loss'], marker='.',c='red',label='Testset_loss')\n",
        "plt.plot(x_len, history.history['loss'], marker='.',c='blue', label='Trainset_loss')\n",
        "plt.legend()\n",
        "plt.xlabel('Epochs')\n",
        "plt.ylabel('Loss')\n",
        "plt.show()"
      ],
      "metadata": {
        "id": "_FJDLkph9Q9I",
        "outputId": "21bc55b1-e9ef-48b7-9642-6f4f1733558c",
        "colab": {
          "base_uri": "https://localhost:8080/",
          "height": 449
        }
      },
      "execution_count": 26,
      "outputs": [
        {
          "output_type": "display_data",
          "data": {
            "text/plain": [
              "<Figure size 640x480 with 1 Axes>"
            ],
            "image/png": "[encoded data removed]"
          },
          "metadata": {}
        }
      ]
    },
    {
      "cell_type": "markdown",
      "source": [
        "- 생각할 거리 1: 빨강, 파랑 선의 의미는 각각 무엇인가?\n",
        "  각 에포크별 훈련 데이터의 손실 함수 값(파랑)\n",
        "  각 에포크벼 검증 데이터의 손실 함수 값(빨강)\n",
        "- 생각할 거리 2: 몇 에포크부터 과적합이 발생했는가? 9\n",
        "- 생각할 거리 3: 몇 에포크 정도에서 학습을 중단시키는 것이 좋을까? 9"
      ],
      "metadata": {
        "id": "1Wpp36FUAKzQ"
      }
    },
    {
      "cell_type": "code",
      "source": [],
      "metadata": {
        "id": "NeGm36SZ939U"
      },
      "execution_count": null,
      "outputs": []
    }
  ]
}